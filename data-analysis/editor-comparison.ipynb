{
 "cells": [
  {
   "cell_type": "code",
   "execution_count": 1,
   "metadata": {},
   "outputs": [
    {
     "data": {
      "text/html": [
       "<script>requirejs.config({paths: { 'plotly': ['https://cdn.plot.ly/plotly-latest.min']},});if(!window.Plotly) {{require(['plotly'],function(plotly) {window.Plotly=plotly;});}}</script>"
      ],
      "text/vnd.plotly.v1+html": [
       "<script>requirejs.config({paths: { 'plotly': ['https://cdn.plot.ly/plotly-latest.min']},});if(!window.Plotly) {{require(['plotly'],function(plotly) {window.Plotly=plotly;});}}</script>"
      ]
     },
     "metadata": {},
     "output_type": "display_data"
    }
   ],
   "source": [
    "import colorlover as cl\n",
    "import numpy as np\n",
    "import pandas as pd\n",
    "import pickle\n",
    "\n",
    "from plotly.offline import init_notebook_mode, iplot\n",
    "import plotly.graph_objs as go\n",
    "\n",
    "init_notebook_mode(connected=True)"
   ]
  },
  {
   "cell_type": "code",
   "execution_count": 2,
   "metadata": {},
   "outputs": [],
   "source": [
    "spam_stats = pd.read_pickle(\"spam.pickle\")\n",
    "livedb_stats = pd.read_pickle(\"livedb.pickle\")"
   ]
  },
  {
   "cell_type": "code",
   "execution_count": 3,
   "metadata": {},
   "outputs": [
    {
     "name": "stdout",
     "output_type": "stream",
     "text": [
      "Total users: 1961609 Spam users: 142689 Real users: 1818920\n"
     ]
    }
   ],
   "source": [
    "spam_count = sum(spam_stats[0])\n",
    "livedb_count = sum(livedb_stats[0])\n",
    "nonspam_count = livedb_count-spam_count\n",
    "print(\"Total users: {} Spam users: {} Real users: {}\".format(livedb_count, spam_count, nonspam_count))"
   ]
  },
  {
   "cell_type": "markdown",
   "metadata": {},
   "source": [
    "## User privilege"
   ]
  },
  {
   "cell_type": "code",
   "execution_count": 4,
   "metadata": {},
   "outputs": [
    {
     "data": {
      "text/plain": [
       "0    142689\n",
       "Name: privs, dtype: int64"
      ]
     },
     "execution_count": 4,
     "metadata": {},
     "output_type": "execute_result"
    }
   ],
   "source": [
    "spam_stats[0]"
   ]
  },
  {
   "cell_type": "code",
   "execution_count": 5,
   "metadata": {},
   "outputs": [
    {
     "data": {
      "text/plain": [
       "0       1961282\n",
       "1           210\n",
       "4            42\n",
       "2            19\n",
       "1024          8\n",
       "3             8\n",
       "1028          8\n",
       "17            6\n",
       "33            5\n",
       "16            2\n",
       "953           2\n",
       "57            2\n",
       "259           2\n",
       "41            1\n",
       "32            1\n",
       "937           1\n",
       "49            1\n",
       "9             1\n",
       "6             1\n",
       "257           1\n",
       "289           1\n",
       "528           1\n",
       "1025          1\n",
       "689           1\n",
       "761           1\n",
       "25            1\n",
       "Name: privs, dtype: int64"
      ]
     },
     "execution_count": 5,
     "metadata": {},
     "output_type": "execute_result"
    }
   ],
   "source": [
    "livedb_stats[0]"
   ]
  },
  {
   "cell_type": "markdown",
   "metadata": {},
   "source": [
    "This could be a reliable indicator of a user not being a spammer however there are very few editors outside of privilege 0 in total so it probably wouldn't make sense to use this in the model."
   ]
  },
  {
   "cell_type": "markdown",
   "metadata": {},
   "source": [
    "## User area"
   ]
  },
  {
   "cell_type": "code",
   "execution_count": 6,
   "metadata": {},
   "outputs": [
    {
     "data": {
      "text/plain": [
       "NaN         142668\n",
       " 222.0           6\n",
       " 5056.0          2\n",
       " 221.0           2\n",
       " 11042.0         1\n",
       " 228.0           1\n",
       " 10193.0         1\n",
       " 5065.0          1\n",
       " 5058.0          1\n",
       " 7020.0          1\n",
       " 38.0            1\n",
       " 9622.0          1\n",
       " 1178.0          1\n",
       " 9413.0          1\n",
       " 57.0            1\n",
       "Name: area, dtype: int64"
      ]
     },
     "execution_count": 6,
     "metadata": {},
     "output_type": "execute_result"
    }
   ],
   "source": [
    "spam_stats[1]"
   ]
  },
  {
   "cell_type": "code",
   "execution_count": 7,
   "metadata": {
    "scrolled": true
   },
   "outputs": [
    {
     "data": {
      "text/plain": [
       "NaN         1925968\n",
       " 222.0         4239\n",
       " 221.0         2813\n",
       " 1178.0        1676\n",
       " 7020.0         858\n",
       " 81.0           631\n",
       " 99.0           577\n",
       " 73.0           526\n",
       " 38.0           445\n",
       " 13.0           370\n",
       " 7703.0         299\n",
       " 30.0           294\n",
       " 11042.0        276\n",
       " 105.0          265\n",
       " 100.0          255\n",
       " 85266.0        226\n",
       " 194.0          218\n",
       " 150.0          206\n",
       " 3925.0         203\n",
       " 5121.0         187\n",
       " 266.0          157\n",
       " 162.0          154\n",
       " 3912.0         154\n",
       " 5092.0         151\n",
       " 3821.0         149\n",
       " 432.0          149\n",
       " 5099.0         148\n",
       " 176.0          141\n",
       " 84443.0        137\n",
       " 103.0          135\n",
       "             ...   \n",
       " 304.0           66\n",
       " 5194.0          66\n",
       " 7279.0          65\n",
       " 9413.0          65\n",
       " 5212.0          63\n",
       " 4563.0          62\n",
       " 10861.0         61\n",
       " 5090.0          61\n",
       " 168.0           61\n",
       " 87978.0         60\n",
       " 5065.0          60\n",
       " 14.0            60\n",
       " 5089.0          59\n",
       " 434.0           57\n",
       " 9622.0          57\n",
       " 7295.0          56\n",
       " 72.0            56\n",
       " 160.0           55\n",
       " 84.0            55\n",
       " 2429.0          54\n",
       " 5103.0          53\n",
       " 3871.0          52\n",
       " 5213.0          52\n",
       " 65902.0         51\n",
       " 5056.0          51\n",
       " 5075.0          50\n",
       " 241.0           50\n",
       " 9399.0          50\n",
       " 292.0           49\n",
       " 57.0            49\n",
       "Name: area, Length: 100, dtype: int64"
      ]
     },
     "execution_count": 7,
     "metadata": {},
     "output_type": "execute_result"
    }
   ],
   "source": [
    "livedb_stats[1]"
   ]
  },
  {
   "cell_type": "code",
   "execution_count": 8,
   "metadata": {},
   "outputs": [
    {
     "name": "stdout",
     "output_type": "stream",
     "text": [
      "Percentage of users with area set:\n",
      "  Spam: 0.0147%\n",
      "  Real users: 1.9583%\n"
     ]
    }
   ],
   "source": [
    "spam_area_set = 1-(spam_stats[1].loc[np.nan]/spam_count)\n",
    "nonspam_area_set = 1-((livedb_stats[1]-spam_stats[1]).loc[np.nan]/nonspam_count)\n",
    "print(\"Percentage of users with area set:\\n  Spam: {:.4%}\\n  Real users: {:.4%}\".format(spam_area_set, nonspam_area_set))"
   ]
  },
  {
   "cell_type": "markdown",
   "metadata": {},
   "source": [
    "A binary area set/area not set indicator could serve as an additional data point for the model,"
   ]
  },
  {
   "cell_type": "markdown",
   "metadata": {},
   "source": [
    "## User gender"
   ]
  },
  {
   "cell_type": "code",
   "execution_count": 9,
   "metadata": {},
   "outputs": [
    {
     "data": {
      "text/plain": [
       " 2.0    57250\n",
       " 3.0    56491\n",
       "NaN     26877\n",
       " 1.0     2071\n",
       "Name: gender, dtype: int64"
      ]
     },
     "execution_count": 9,
     "metadata": {},
     "output_type": "execute_result"
    }
   ],
   "source": [
    "spam_stats[2]"
   ]
  },
  {
   "cell_type": "code",
   "execution_count": 10,
   "metadata": {},
   "outputs": [
    {
     "data": {
      "text/plain": [
       " 1.0     371053\n",
       " 2.0      67046\n",
       " 3.0      48622\n",
       "NaN     1332199\n",
       "Name: gender, dtype: int64"
      ]
     },
     "execution_count": 10,
     "metadata": {},
     "output_type": "execute_result"
    }
   ],
   "source": [
    "livedb_stats[2]-spam_stats[2]"
   ]
  },
  {
   "cell_type": "code",
   "execution_count": 11,
   "metadata": {},
   "outputs": [
    {
     "name": "stdout",
     "output_type": "stream",
     "text": [
      "Percentage of users with gender set:\n",
      "  Spam: 81.1639%\n",
      "  Real users: 26.7588%\n"
     ]
    }
   ],
   "source": [
    "spam_gender_set = 1-(spam_stats[2].loc[np.nan]/spam_count)\n",
    "nonspam_gender_set = 1-((livedb_stats[2]-spam_stats[2]).loc[np.nan]/nonspam_count)\n",
    "print(\"Percentage of users with gender set:\\n  Spam: {:.4%}\\n  Real users: {:.4%}\".format(spam_gender_set, nonspam_gender_set))"
   ]
  },
  {
   "cell_type": "markdown",
   "metadata": {},
   "source": [
    "Surprisingly more spam than real users have their gender set, this could also work as a binary indicator."
   ]
  },
  {
   "cell_type": "markdown",
   "metadata": {},
   "source": [
    "## Email domains"
   ]
  },
  {
   "cell_type": "code",
   "execution_count": 12,
   "metadata": {
    "scrolled": true
   },
   "outputs": [
    {
     "name": "stdout",
     "output_type": "stream",
     "text": [
      "intervisionplc.com          35413\n",
      "lexxip.com                   8102\n",
      "joomlaemails.com             8072\n",
      "babymails.com                7743\n",
      "freemailhosts.com            7513\n",
      "lovelymail.info              6266\n",
      "kingdomheartmail.com         4885\n",
      "wordpressmails.com           4296\n",
      "abrighterfutureday.com       4073\n",
      "hubspotmails.com             3947\n",
      "trango.co                    3932\n",
      "devsapps.net                 3548\n",
      "businesskontakts.com         3323\n",
      "drupalmails.com              3222\n",
      "webgarden.com                2845\n",
      "ibmmails.com                 2502\n",
      "hotspotmails.com             2423\n",
      "cfphone.net                  2276\n",
      "queenofsite.online           2255\n",
      "uminga.net                   2204\n",
      "singtelmails.com             2149\n",
      "temasekmail.com              2115\n",
      "hypermailbox.com             2107\n",
      "gloriousfuturedays.com       2039\n",
      "kingofplace.site             1787\n",
      "1st-apparelsoftware.info     1704\n",
      "padita.net                   1568\n",
      "deepemailbox.com             1532\n",
      "lolas3.seo-linuxpl.com       1409\n",
      "justbigbox.com               1401\n",
      "dupontmails.com              1392\n",
      "techspotny.com               1385\n",
      "novartismails.com            1242\n",
      "efacs.net                    1011\n",
      "anseohero.com                1008\n",
      "Name: email, dtype: int64\n"
     ]
    }
   ],
   "source": [
    "spam_edomains = spam_stats[3]\n",
    "print(spam_edomains)"
   ]
  },
  {
   "cell_type": "code",
   "execution_count": 13,
   "metadata": {
    "scrolled": true
   },
   "outputs": [
    {
     "name": "stdout",
     "output_type": "stream",
     "text": [
      "NaN                         786919\n",
      "gmail.com                   219115\n",
      "outlook.com                 171983\n",
      "yahoo.com                   115053\n",
      "hotmail.com                  77330\n",
      "mail.ru                      52383\n",
      "vikilx.com                    9568\n",
      "gmx.de                        9201\n",
      "lexxip.com                    8404\n",
      "web.de                        7617\n",
      "aol.com                       5459\n",
      "free.fr                       4684\n",
      "gmx.net                       4475\n",
      "quickenmails.com              4229\n",
      "hotmail.co.uk                 4042\n",
      "yahoo.co.uk                   4020\n",
      "googlemail.com                3918\n",
      "yahoo.fr                      3716\n",
      "yandex.com                    3506\n",
      "babymails.com                 3422\n",
      "comcast.net                   3310\n",
      "msn.com                       3099\n",
      "o2.pl                         2955\n",
      "mail.com                      2479\n",
      "yahoo.de                      2424\n",
      "hotmail.fr                    2408\n",
      "                              2338\n",
      "gmx.com                       2204\n",
      "live.com                      2035\n",
      "mac.com                       2018\n",
      "                             ...  \n",
      "kodmailing.com                1042\n",
      "lovelymail.info                864\n",
      "hubspotmails.com               835\n",
      "wordpressmails.com             740\n",
      "uminga.net                     675\n",
      "joomlaemails.com               598\n",
      "hotspotmails.com               545\n",
      "ibmmails.com                   462\n",
      "temasekmail.com                365\n",
      "lolas3.seo-linuxpl.com         358\n",
      "dupontmails.com                343\n",
      "singtelmails.com               337\n",
      "1st-apparelsoftware.info       313\n",
      "abrighterfutureday.com         300\n",
      "hypermailbox.com               296\n",
      "cfphone.net                    256\n",
      "businesskontakts.com           233\n",
      "drupalmails.com                213\n",
      "deepemailbox.com               210\n",
      "novartismails.com              206\n",
      "padita.net                     186\n",
      "kingdomheartmail.com           176\n",
      "anseohero.com                  175\n",
      "queenofsite.online             148\n",
      "justbigbox.com                 141\n",
      "kingofplace.site               135\n",
      "gloriousfuturedays.com         124\n",
      "efacs.net                      122\n",
      "webgarden.com                  120\n",
      "techspotny.com                  40\n",
      "Name: email, Length: 100, dtype: int64\n"
     ]
    },
    {
     "name": "stderr",
     "output_type": "stream",
     "text": [
      "/home/user/.venvs/dataviz/lib/python3.6/site-packages/pandas/core/generic.py:7435: RuntimeWarning:\n",
      "\n",
      "'<' not supported between instances of 'str' and 'float', sort order is undefined for incomparable objects\n",
      "\n"
     ]
    }
   ],
   "source": [
    "nonspam_edomains = livedb_stats[3].subtract(spam_stats[3], fill_value=0).astype(int).sort_values(ascending=False)\n",
    "print(nonspam_edomains)"
   ]
  },
  {
   "cell_type": "markdown",
   "metadata": {},
   "source": [
    "Perhaps surprisingly, all spam users have an email address set. The domains used by real editors are mostly common mail providers whereas the spam ones are pretty much obscure."
   ]
  },
  {
   "cell_type": "code",
   "execution_count": 14,
   "metadata": {},
   "outputs": [
    {
     "name": "stdout",
     "output_type": "stream",
     "text": [
      "                           spam  nonspam\n",
      "intervisionplc.com        35413     1276\n",
      "lexxip.com                 8102     8404\n",
      "joomlaemails.com           8072      598\n",
      "babymails.com              7743     3422\n",
      "freemailhosts.com          7513     1117\n",
      "lovelymail.info            6266      864\n",
      "kingdomheartmail.com       4885      176\n",
      "wordpressmails.com         4296      740\n",
      "abrighterfutureday.com     4073      300\n",
      "hubspotmails.com           3947      835\n",
      "trango.co                  3932     1283\n",
      "devsapps.net               3548     1338\n",
      "businesskontakts.com       3323      233\n",
      "drupalmails.com            3222      213\n",
      "webgarden.com              2845      120\n",
      "ibmmails.com               2502      462\n",
      "hotspotmails.com           2423      545\n",
      "cfphone.net                2276      256\n",
      "queenofsite.online         2255      148\n",
      "uminga.net                 2204      675\n",
      "singtelmails.com           2149      337\n",
      "temasekmail.com            2115      365\n",
      "hypermailbox.com           2107      296\n",
      "gloriousfuturedays.com     2039      124\n",
      "kingofplace.site           1787      135\n",
      "1st-apparelsoftware.info   1704      313\n",
      "padita.net                 1568      186\n",
      "deepemailbox.com           1532      210\n",
      "lolas3.seo-linuxpl.com     1409      358\n",
      "justbigbox.com             1401      141\n",
      "dupontmails.com            1392      343\n",
      "techspotny.com             1385       40\n",
      "novartismails.com          1242      206\n",
      "efacs.net                  1011      122\n",
      "anseohero.com              1008      175\n"
     ]
    }
   ],
   "source": [
    "a = spam_edomains.to_frame(name=\"spam\")\n",
    "b = nonspam_edomains.to_frame(name=\"nonspam\")\n",
    "c = a.merge(b, how=\"inner\", left_index=True, right_index=True)\n",
    "print(c)"
   ]
  },
  {
   "cell_type": "markdown",
   "metadata": {},
   "source": [
    "A surprising amount of \"real\" editors use obscure domains that are part of the top 100 spam domains, for example the first domain on this list doesn't even have a website, yet over a thousand users use it for emails. Perhaps those are also spam editors who haven't been found out yet?"
   ]
  },
  {
   "cell_type": "code",
   "execution_count": 15,
   "metadata": {},
   "outputs": [
    {
     "name": "stdout",
     "output_type": "stream",
     "text": [
      "Amount of potential spam editors not yet found: 26356\n"
     ]
    }
   ],
   "source": [
    "print(\"Amount of potential spam editors not yet found: {}\".format(sum(c[\"nonspam\"])))"
   ]
  },
  {
   "cell_type": "markdown",
   "metadata": {},
   "source": [
    "Even working with just the top 100 email domains, we can see that there are clear differences between the email domains commonly used by real users and those used by spam users and that just by working with the top 100 data we were able to find a lot of potential spam editors not yet reported.\n",
    "\n",
    "Thus email domains seem to be a pretty solid indicator for detection spam."
   ]
  },
  {
   "cell_type": "markdown",
   "metadata": {},
   "source": [
    "## WIP: Time between first login and last login"
   ]
  },
  {
   "cell_type": "code",
   "execution_count": null,
   "metadata": {},
   "outputs": [],
   "source": [
    "layout = go.Layout(\n",
    "    title=\"Time between first login and last login\",\n",
    "    xaxis=dict(\n",
    "        title=\"Time in hours\"\n",
    "    ),\n",
    "    yaxis=dict(\n",
    "        title=\"User count\"\n",
    "    )\n",
    ")\n",
    "\n",
    "data = [spam_stats[4]]\n",
    "\n",
    "iplot(go.Figure(layout=layout, data=data))"
   ]
  }
 ],
 "metadata": {
  "kernelspec": {
   "display_name": "dataviz",
   "language": "python",
   "name": "dataviz"
  },
  "language_info": {
   "codemirror_mode": {
    "name": "ipython",
    "version": 3
   },
   "file_extension": ".py",
   "mimetype": "text/x-python",
   "name": "python",
   "nbconvert_exporter": "python",
   "pygments_lexer": "ipython3",
   "version": "3.6.5"
  }
 },
 "nbformat": 4,
 "nbformat_minor": 2
}

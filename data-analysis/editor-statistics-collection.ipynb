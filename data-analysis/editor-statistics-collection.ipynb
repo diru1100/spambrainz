{
 "cells": [
  {
   "cell_type": "markdown",
   "metadata": {},
   "source": [
    "# MusicBrainz editor statistics extraction\n",
    "This notebook generates statistical data from the editor table of a MusicBrainz database."
   ]
  },
  {
   "cell_type": "code",
   "execution_count": 4,
   "metadata": {},
   "outputs": [
    {
     "name": "stderr",
     "output_type": "stream",
     "text": [
      "/home/user/.venvs/dataviz/lib/python3.6/site-packages/psycopg2/__init__.py:144: UserWarning: The psycopg2 wheel package will be renamed from release 2.8; in order to keep installing from binary please use \"pip install psycopg2-binary\" instead. For details see: <http://initd.org/psycopg/docs/install.html#binary-install-from-pypi>.\n",
      "  \"\"\")\n"
     ]
    }
   ],
   "source": [
    "import psycopg2 as pg\n",
    "import pandas.io.sql as psql\n",
    "import pandas as pd\n",
    "import numpy as np\n",
    "import pickle"
   ]
  },
  {
   "cell_type": "code",
   "execution_count": 2,
   "metadata": {},
   "outputs": [],
   "source": [
    "connection = pg.connect(\"host=localhost dbname=musicbrainz_db user=musicbrainz password=musicbrainz\")"
   ]
  },
  {
   "cell_type": "code",
   "execution_count": 3,
   "metadata": {},
   "outputs": [],
   "source": [
    "df = psql.read_sql_query(\"SELECT * FROM editor\", connection)"
   ]
  },
  {
   "cell_type": "code",
   "execution_count": 4,
   "metadata": {},
   "outputs": [],
   "source": [
    "def in_qrange(s, q):\n",
    "    return s.between(*s.quantile(q=q))\n",
    "\n",
    "# Filtering quantils prevents a couple extremes from causing dozens of empty bins during binning\n",
    "def filter_quantiles(s, q):\n",
    "    return s.loc[s.transform(in_qrange, q=q)]\n",
    "\n",
    "def bin(s, bin_count):\n",
    "    return pd.cut(s, bin_count)\n",
    "\n",
    "def hist(s, head=None):\n",
    "    hist = s.value_counts(dropna=False)\n",
    "    \n",
    "    if head is not None:\n",
    "        return hist.head(head)\n",
    "    else:\n",
    "        return hist\n",
    "\n",
    "def bin_hist(s, bin_count):\n",
    "    return hist(bin(s, bin_count))\n",
    "    \n",
    "def filter_bin_hist(s, bin_count, q):\n",
    "    return bin_hist(filter_quantiles(s, q), bin_count)"
   ]
  },
  {
   "cell_type": "code",
   "execution_count": 5,
   "metadata": {},
   "outputs": [],
   "source": [
    "priv_hist = hist(df[\"privs\"])\n",
    "area_hist = hist(df[\"area\"], 100)\n",
    "gender_hist = hist(df[\"gender\"])"
   ]
  },
  {
   "cell_type": "code",
   "execution_count": 6,
   "metadata": {},
   "outputs": [],
   "source": [
    "emaildomain_hist_raw = hist(df[\"email\"].str.replace(r\".*@\", \"\"), 100)\n",
    "# As email domains are personally identifying data, drop domains with fewer than ten occurances\n",
    "emaildomain_hist = emaildomain_hist_raw.where(lambda x : x >= 10).dropna()"
   ]
  },
  {
   "cell_type": "code",
   "execution_count": 7,
   "metadata": {},
   "outputs": [],
   "source": [
    "login_diffs = pd.Series([(row[\"last_login_date\"] - row[\"member_since\"])/pd.Timedelta(hours=1) for index, row in df.iterrows()])\n",
    "login_diff_hist = filter_bin_hist(login_diffs, 100, [0, 0.99])"
   ]
  },
  {
   "cell_type": "code",
   "execution_count": 8,
   "metadata": {},
   "outputs": [],
   "source": [
    "confirmation_diffs = pd.Series([(row[\"email_confirm_date\"] - row[\"member_since\"])/pd.Timedelta(hours=1) for index, row in df.iterrows()])\n",
    "confirmation_diff_hist = filter_bin_hist(confirmation_diffs, 100, [0, 0.99])"
   ]
  },
  {
   "cell_type": "code",
   "execution_count": 9,
   "metadata": {},
   "outputs": [],
   "source": [
    "update_diffs = pd.Series([(row[\"last_updated\"] - row[\"member_since\"])/pd.Timedelta(hours=1) for index, row in df.iterrows()])\n",
    "update_diff_hist = filter_bin_hist(update_diffs, 100, [0, 0.95])"
   ]
  },
  {
   "cell_type": "code",
   "execution_count": 10,
   "metadata": {},
   "outputs": [],
   "source": [
    "birth_date_hist = hist(df[\"birth_date\"], 100)\n",
    "# I considered splitting this into year/month/day but with so few entries, a set/not-set flag should probably work well enough"
   ]
  },
  {
   "cell_type": "code",
   "execution_count": 11,
   "metadata": {},
   "outputs": [],
   "source": [
    "output = [priv_hist, area_hist, gender_hist, emaildomain_hist, login_diff_hist, confirmation_diff_hist, update_diff_hist, birth_date_hist]"
   ]
  },
  {
   "cell_type": "code",
   "execution_count": 1,
   "metadata": {},
   "outputs": [
    {
     "ename": "NameError",
     "evalue": "name 'pickle' is not defined",
     "output_type": "error",
     "traceback": [
      "\u001b[0;31m---------------------------------------------------------------------------\u001b[0m",
      "\u001b[0;31mNameError\u001b[0m                                 Traceback (most recent call last)",
      "\u001b[0;32m<ipython-input-1-0b303ae709b2>\u001b[0m in \u001b[0;36m<module>\u001b[0;34m()\u001b[0m\n\u001b[1;32m      1\u001b[0m \u001b[0;32mwith\u001b[0m \u001b[0mopen\u001b[0m\u001b[0;34m(\u001b[0m\u001b[0;34m\"stats.pickle\"\u001b[0m\u001b[0;34m,\u001b[0m \u001b[0;34m\"wb\"\u001b[0m\u001b[0;34m)\u001b[0m \u001b[0;32mas\u001b[0m \u001b[0mf\u001b[0m\u001b[0;34m:\u001b[0m\u001b[0;34m\u001b[0m\u001b[0m\n\u001b[0;32m----> 2\u001b[0;31m     \u001b[0mpickle\u001b[0m\u001b[0;34m.\u001b[0m\u001b[0mdump\u001b[0m\u001b[0;34m(\u001b[0m\u001b[0moutput\u001b[0m\u001b[0;34m,\u001b[0m \u001b[0mf\u001b[0m\u001b[0;34m,\u001b[0m \u001b[0mprotocol\u001b[0m\u001b[0;34m=\u001b[0m\u001b[0mpickle\u001b[0m\u001b[0;34m.\u001b[0m\u001b[0mHIGHEST_PROTOCOL\u001b[0m\u001b[0;34m)\u001b[0m\u001b[0;34m\u001b[0m\u001b[0m\n\u001b[0m",
      "\u001b[0;31mNameError\u001b[0m: name 'pickle' is not defined"
     ]
    }
   ],
   "source": [
    "with open(\"stats.pickle\", \"wb\") as f:\n",
    "    pickle.dump(output, f, protocol=pickle.HIGHEST_PROTOCOL)"
   ]
  },
  {
   "cell_type": "code",
   "execution_count": 16,
   "metadata": {},
   "outputs": [
    {
     "data": {
      "text/plain": [
       "array([   1.        ,    1.07226722,    1.149757  ,    1.23284674,\n",
       "          1.32194115,    1.41747416,    1.51991108,    1.62975083,\n",
       "          1.7475284 ,    1.87381742,    2.009233  ,    2.15443469,\n",
       "          2.3101297 ,    2.47707636,    2.65608778,    2.84803587,\n",
       "          3.05385551,    3.27454916,    3.51119173,    3.76493581,\n",
       "          4.03701726,    4.32876128,    4.64158883,    4.97702356,\n",
       "          5.33669923,    5.72236766,    6.13590727,    6.57933225,\n",
       "          7.05480231,    7.56463328,    8.11130831,    8.69749003,\n",
       "          9.32603347,   10.        ,   10.72267222,   11.49756995,\n",
       "         12.32846739,   13.21941148,   14.17474163,   15.19911083,\n",
       "         16.29750835,   17.475284  ,   18.73817423,   20.09233003,\n",
       "         21.5443469 ,   23.101297  ,   24.77076356,   26.56087783,\n",
       "         28.48035868,   30.53855509,   32.74549163,   35.11191734,\n",
       "         37.64935807,   40.37017259,   43.28761281,   46.41588834,\n",
       "         49.77023564,   53.36699231,   57.22367659,   61.35907273,\n",
       "         65.79332247,   70.54802311,   75.64633276,   81.11308308,\n",
       "         86.97490026,   93.26033469,  100.        ,  107.2267222 ,\n",
       "        114.97569954,  123.28467394,  132.19411485,  141.74741629,\n",
       "        151.9911083 ,  162.97508346,  174.75284   ,  187.38174229,\n",
       "        200.92330026,  215.443469  ,  231.01297001,  247.7076356 ,\n",
       "        265.60877829,  284.80358684,  305.38555088,  327.45491629,\n",
       "        351.11917342,  376.49358068,  403.70172586,  432.87612811,\n",
       "        464.15888336,  497.70235643,  533.66992312,  572.23676594,\n",
       "        613.59072734,  657.93322466,  705.48023107,  756.46332755,\n",
       "        811.13083079,  869.74900262,  932.60334688, 1000.        ])"
      ]
     },
     "execution_count": 16,
     "metadata": {},
     "output_type": "execute_result"
    }
   ],
   "source": [
    "np.logspace(np.log10(1),np.log10(1000), 100)"
   ]
  },
  {
   "cell_type": "code",
   "execution_count": 17,
   "metadata": {},
   "outputs": [
    {
     "data": {
      "text/plain": [
       "array([1.00000000e+00, 1.10520985e+00, 1.22148882e+00, 1.35000147e+00,\n",
       "       1.49203493e+00, 1.64901170e+00, 1.82250398e+00, 2.01424935e+00,\n",
       "       2.22616822e+00, 2.46038305e+00, 2.71923959e+00, 3.00533038e+00,\n",
       "       3.32152074e+00, 3.67097745e+00, 4.05720044e+00, 4.48405790e+00,\n",
       "       4.95582496e+00, 5.47722657e+00, 6.05348477e+00, 6.69037100e+00,\n",
       "       7.39426394e+00, 8.17221335e+00, 9.03201070e+00, 9.98226721e+00,\n",
       "       1.10325001e+01, 1.21932277e+01, 1.34760754e+01, 1.48938913e+01,\n",
       "       1.64608754e+01, 1.81927217e+01, 2.01067752e+01, 2.22222061e+01,\n",
       "       2.45602011e+01, 2.71441762e+01, 3.00000109e+01, 3.31563076e+01,\n",
       "       3.66446778e+01, 4.05000589e+01, 4.47610641e+01, 4.94703690e+01,\n",
       "       5.46751392e+01, 6.04275025e+01, 6.67850710e+01, 7.38115184e+01,\n",
       "       8.15772173e+01, 9.01599442e+01, 9.96456586e+01, 1.10129364e+02,\n",
       "       1.21716057e+02, 1.34521786e+02, 1.48674803e+02, 1.64316857e+02,\n",
       "       1.81604609e+02, 2.00711203e+02, 2.21827999e+02, 2.45166490e+02,\n",
       "       2.70960420e+02, 2.99468125e+02, 3.30975122e+02, 3.65796965e+02,\n",
       "       4.04282410e+02, 4.46816902e+02, 4.93826442e+02, 5.45781849e+02,\n",
       "       6.03203476e+02, 6.66666424e+02, 7.36806300e+02, 8.14325581e+02,\n",
       "       9.00000655e+02, 9.94689590e+02, 1.09934073e+03, 1.21500221e+03,\n",
       "       1.34283241e+03, 1.48411161e+03, 1.64025477e+03, 1.81282573e+03,\n",
       "       2.00355286e+03, 2.21434636e+03, 2.44731741e+03, 2.70479931e+03,\n",
       "       2.98937084e+03, 3.30388211e+03, 3.65148305e+03, 4.03565504e+03,\n",
       "       4.46024571e+03, 4.92950750e+03, 5.44814025e+03, 6.02133828e+03,\n",
       "       6.65484238e+03, 7.35499736e+03, 8.12881554e+03, 8.98404702e+03,\n",
       "       9.92925727e+03, 1.09739130e+04, 1.21284767e+04, 1.34045119e+04,\n",
       "       1.48147987e+04, 1.63734614e+04, 1.80961109e+04, 2.00000000e+04])"
      ]
     },
     "execution_count": 17,
     "metadata": {},
     "output_type": "execute_result"
    }
   ],
   "source": [
    "np.logspace(np.log10(1),np.log10(20000), 100)"
   ]
  },
  {
   "cell_type": "code",
   "execution_count": null,
   "metadata": {},
   "outputs": [],
   "source": []
  }
 ],
 "metadata": {
  "kernelspec": {
   "display_name": "dataviz",
   "language": "python",
   "name": "dataviz"
  },
  "language_info": {
   "codemirror_mode": {
    "name": "ipython",
    "version": 3
   },
   "file_extension": ".py",
   "mimetype": "text/x-python",
   "name": "python",
   "nbconvert_exporter": "python",
   "pygments_lexer": "ipython3",
   "version": "3.6.5"
  }
 },
 "nbformat": 4,
 "nbformat_minor": 2
}

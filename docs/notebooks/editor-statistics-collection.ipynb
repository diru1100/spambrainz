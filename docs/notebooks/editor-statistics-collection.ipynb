{
 "cells": [
  {
   "cell_type": "markdown",
   "metadata": {},
   "source": [
    "# MusicBrainz editor statistics extraction\n",
    "This notebook generates statistical data from the editor table of a MusicBrainz database."
   ]
  },
  {
   "cell_type": "code",
   "execution_count": 1,
   "metadata": {},
   "outputs": [
    {
     "name": "stderr",
     "output_type": "stream",
     "text": [
      "/home/user/.venvs/dataviz/lib/python3.6/site-packages/psycopg2/__init__.py:144: UserWarning: The psycopg2 wheel package will be renamed from release 2.8; in order to keep installing from binary please use \"pip install psycopg2-binary\" instead. For details see: <http://initd.org/psycopg/docs/install.html#binary-install-from-pypi>.\n",
      "  \"\"\")\n"
     ]
    }
   ],
   "source": [
    "import psycopg2 as pg\n",
    "import pandas.io.sql as psql\n",
    "import pandas as pd\n",
    "import pickle"
   ]
  },
  {
   "cell_type": "code",
   "execution_count": 2,
   "metadata": {},
   "outputs": [],
   "source": [
    "connection = pg.connect(\"host=localhost dbname=musicbrainz_db user=musicbrainz password=musicbrainz\")"
   ]
  },
  {
   "cell_type": "code",
   "execution_count": 3,
   "metadata": {},
   "outputs": [],
   "source": [
    "df = psql.read_sql_query(\"SELECT * FROM editor\", connection)"
   ]
  },
  {
   "cell_type": "code",
   "execution_count": 4,
   "metadata": {},
   "outputs": [],
   "source": [
    "def in_qrange(s, q):\n",
    "    return s.between(*s.quantile(q=q))\n",
    "\n",
    "# Filtering quantils prevents a couple extremes from causing dozens of empty bins during binning\n",
    "def filter_quantiles(s, q):\n",
    "    return s.loc[s.transform(in_qrange, q=q)]\n",
    "\n",
    "def bin(s, bin_count):\n",
    "    return pd.cut(s, bin_count)\n",
    "\n",
    "def hist(s, head=None):\n",
    "    hist = s.value_counts(dropna=False)\n",
    "    \n",
    "    if head is not None:\n",
    "        return hist.head(head)\n",
    "    else:\n",
    "        return hist\n",
    "\n",
    "def filter_bin_hist(s, bin_count, q):\n",
    "    return hist(bin(filter_quantiles(s, q), bin_count))"
   ]
  },
  {
   "cell_type": "code",
   "execution_count": 5,
   "metadata": {},
   "outputs": [],
   "source": [
    "priv_hist = hist(df[\"privs\"])\n",
    "area_hist = hist(df[\"area\"], 100)\n",
    "gender_hist = hist(df[\"gender\"])"
   ]
  },
  {
   "cell_type": "code",
   "execution_count": 6,
   "metadata": {},
   "outputs": [],
   "source": [
    "emaildomain_hist_raw = hist(df[\"email\"].str.replace(r\".*@\", \"\"), 100)\n",
    "# As email domains are personally identifying data, drop domains with fewer than ten occurances\n",
    "emaildomain_hist = emaildomain_hist_raw.where(lambda x : x >= 10).dropna()"
   ]
  },
  {
   "cell_type": "code",
   "execution_count": 7,
   "metadata": {},
   "outputs": [],
   "source": [
    "login_diffs = pd.Series([(row[\"last_login_date\"] - row[\"member_since\"])/pd.Timedelta(hours=1) for index, row in df.iterrows()])\n",
    "login_diff_hist = filter_bin_hist(login_diffs, 100, [0, 0.99])"
   ]
  },
  {
   "cell_type": "code",
   "execution_count": 8,
   "metadata": {},
   "outputs": [],
   "source": [
    "confirmation_diffs = pd.Series([(row[\"email_confirm_date\"] - row[\"member_since\"])/pd.Timedelta(hours=1) for index, row in df.iterrows()])\n",
    "confirmation_diff_hist = filter_bin_hist(confirmation_diffs, 100, [0, 0.99])"
   ]
  },
  {
   "cell_type": "code",
   "execution_count": 9,
   "metadata": {},
   "outputs": [],
   "source": [
    "update_diffs = pd.Series([(row[\"last_updated\"] - row[\"member_since\"])/pd.Timedelta(hours=1) for index, row in df.iterrows()])\n",
    "update_diff_hist = filter_bin_hist(update_diffs, 100, [0, 0.95])"
   ]
  },
  {
   "cell_type": "code",
   "execution_count": 10,
   "metadata": {},
   "outputs": [],
   "source": [
    "birth_date_hist = hist(df[\"birth_date\"], 100)\n",
    "# I considered splitting this into year/month/day but with so few entries, a set/not-set flag should probably work well enough"
   ]
  },
  {
   "cell_type": "code",
   "execution_count": 11,
   "metadata": {},
   "outputs": [],
   "source": [
    "output = [priv_hist, area_hist, gender_hist, emaildomain_hist, login_diff_hist, confirmation_diff_hist, update_diff_hist, birth_date_hist]"
   ]
  },
  {
   "cell_type": "code",
   "execution_count": 12,
   "metadata": {},
   "outputs": [],
   "source": [
    "with open(\"stats.pickle\", \"wb\") as f:\n",
    "    pickle.dump(output, f, protocol=pickle.HIGHEST_PROTOCOL)"
   ]
  }
 ],
 "metadata": {
  "kernelspec": {
   "display_name": "dataviz",
   "language": "python",
   "name": "dataviz"
  },
  "language_info": {
   "codemirror_mode": {
    "name": "ipython",
    "version": 3
   },
   "file_extension": ".py",
   "mimetype": "text/x-python",
   "name": "python",
   "nbconvert_exporter": "python",
   "pygments_lexer": "ipython3",
   "version": "3.6.5"
  }
 },
 "nbformat": 4,
 "nbformat_minor": 2
}
